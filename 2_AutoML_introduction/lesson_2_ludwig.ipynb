{
 "cells": [
  {
   "cell_type": "markdown",
   "metadata": {},
   "source": [
    "# Preparation "
   ]
  },
  {
   "cell_type": "markdown",
   "metadata": {},
   "source": [
    "## [Ludwig framework](https://uber.github.io/ludwig/?from=%40) setup\n",
    "Please make sure that you are running this in standalone Python virtual env and that you are using interactive Python for that env. This should help to vastly reduce amount of dependency clashes."
   ]
  },
  {
   "cell_type": "code",
   "execution_count": null,
   "metadata": {},
   "outputs": [],
   "source": [
    "!pip install matplotlib\n",
    "!pip install seaborn\n",
    "!pip install -U ludwig[all]"
   ]
  },
  {
   "cell_type": "markdown",
   "metadata": {},
   "source": [
    "## Enviroment variables setup"
   ]
  },
  {
   "cell_type": "code",
   "execution_count": 2,
   "metadata": {},
   "outputs": [],
   "source": [
    "from random import uniform\n",
    "from random import randint\n",
    "import pandas as pd\n",
    "import numpy as np\n",
    "from sklearn.model_selection import train_test_split"
   ]
  },
  {
   "cell_type": "code",
   "execution_count": 3,
   "metadata": {},
   "outputs": [],
   "source": [
    "target_name = \"y\" #feature(\"column\") with the result\n",
    "input_file = \"tmp_ludwig/input_file_ludwig.csv\""
   ]
  },
  {
   "cell_type": "markdown",
   "metadata": {},
   "source": [
    "## New \"random\" data generation"
   ]
  },
  {
   "cell_type": "code",
   "execution_count": 4,
   "metadata": {},
   "outputs": [],
   "source": [
    "row_num=40000\n",
    "min_num=0\n",
    "max_num=100\n",
    "\n",
    "with open(input_file, \"w+\") as f: \n",
    "    f.write(\"x1,x2,x3,x4,x5,x6,x7,x8,x9,y\\n\") \n",
    "    for i in range(row_num):\n",
    "        x1 = randint(min_num, max_num)\n",
    "        x2 = randint(min_num, max_num)\n",
    "        x3 = randint(min_num, max_num)\n",
    "        x4 = randint(min_num, max_num)\n",
    "        x5 = randint(min_num, max_num)\n",
    "        x6 = randint(min_num, max_num)\n",
    "        x7 = randint(min_num, max_num)\n",
    "        x8 = randint(min_num, max_num)        \n",
    "        x9 = randint(min_num, max_num)\n",
    "        y = 1 if( x1 + x2 > x3) else 0\n",
    "        \n",
    "        f.write(\"{},{},{},{},{},{},{},{},{},{}\\n\".format(x1,x2,x3,x4,x5,x6,x7,x8,x9,y))"
   ]
  },
  {
   "cell_type": "code",
   "execution_count": 5,
   "metadata": {},
   "outputs": [],
   "source": [
    "df = pd.read_csv(input_file,index_col=None, header=0, delimiter=\",\")"
   ]
  },
  {
   "cell_type": "code",
   "execution_count": 6,
   "metadata": {},
   "outputs": [
    {
     "data": {
      "text/html": [
       "<div>\n",
       "<style scoped>\n",
       "    .dataframe tbody tr th:only-of-type {\n",
       "        vertical-align: middle;\n",
       "    }\n",
       "\n",
       "    .dataframe tbody tr th {\n",
       "        vertical-align: top;\n",
       "    }\n",
       "\n",
       "    .dataframe thead th {\n",
       "        text-align: right;\n",
       "    }\n",
       "</style>\n",
       "<table border=\"1\" class=\"dataframe\">\n",
       "  <thead>\n",
       "    <tr style=\"text-align: right;\">\n",
       "      <th></th>\n",
       "      <th>x1</th>\n",
       "      <th>x2</th>\n",
       "      <th>x3</th>\n",
       "      <th>x4</th>\n",
       "      <th>x5</th>\n",
       "      <th>x6</th>\n",
       "      <th>x7</th>\n",
       "      <th>x8</th>\n",
       "      <th>x9</th>\n",
       "      <th>y</th>\n",
       "    </tr>\n",
       "  </thead>\n",
       "  <tbody>\n",
       "    <tr>\n",
       "      <th>0</th>\n",
       "      <td>98</td>\n",
       "      <td>76</td>\n",
       "      <td>27</td>\n",
       "      <td>89</td>\n",
       "      <td>59</td>\n",
       "      <td>11</td>\n",
       "      <td>55</td>\n",
       "      <td>25</td>\n",
       "      <td>64</td>\n",
       "      <td>1</td>\n",
       "    </tr>\n",
       "    <tr>\n",
       "      <th>1</th>\n",
       "      <td>51</td>\n",
       "      <td>51</td>\n",
       "      <td>76</td>\n",
       "      <td>26</td>\n",
       "      <td>23</td>\n",
       "      <td>44</td>\n",
       "      <td>33</td>\n",
       "      <td>1</td>\n",
       "      <td>98</td>\n",
       "      <td>1</td>\n",
       "    </tr>\n",
       "    <tr>\n",
       "      <th>2</th>\n",
       "      <td>78</td>\n",
       "      <td>15</td>\n",
       "      <td>35</td>\n",
       "      <td>20</td>\n",
       "      <td>6</td>\n",
       "      <td>45</td>\n",
       "      <td>45</td>\n",
       "      <td>77</td>\n",
       "      <td>22</td>\n",
       "      <td>1</td>\n",
       "    </tr>\n",
       "    <tr>\n",
       "      <th>3</th>\n",
       "      <td>48</td>\n",
       "      <td>66</td>\n",
       "      <td>48</td>\n",
       "      <td>3</td>\n",
       "      <td>45</td>\n",
       "      <td>94</td>\n",
       "      <td>20</td>\n",
       "      <td>56</td>\n",
       "      <td>9</td>\n",
       "      <td>1</td>\n",
       "    </tr>\n",
       "    <tr>\n",
       "      <th>4</th>\n",
       "      <td>8</td>\n",
       "      <td>9</td>\n",
       "      <td>38</td>\n",
       "      <td>72</td>\n",
       "      <td>2</td>\n",
       "      <td>47</td>\n",
       "      <td>75</td>\n",
       "      <td>80</td>\n",
       "      <td>91</td>\n",
       "      <td>0</td>\n",
       "    </tr>\n",
       "  </tbody>\n",
       "</table>\n",
       "</div>"
      ],
      "text/plain": [
       "   x1  x2  x3  x4  x5  x6  x7  x8  x9  y\n",
       "0  98  76  27  89  59  11  55  25  64  1\n",
       "1  51  51  76  26  23  44  33   1  98  1\n",
       "2  78  15  35  20   6  45  45  77  22  1\n",
       "3  48  66  48   3  45  94  20  56   9  1\n",
       "4   8   9  38  72   2  47  75  80  91  0"
      ]
     },
     "execution_count": 6,
     "metadata": {},
     "output_type": "execute_result"
    }
   ],
   "source": [
    "df.head()"
   ]
  },
  {
   "cell_type": "markdown",
   "metadata": {},
   "source": [
    "## Training with Ludwig"
   ]
  },
  {
   "cell_type": "code",
   "execution_count": null,
   "metadata": {},
   "outputs": [],
   "source": [
    "import os\n",
    "from ludwig.api import LudwigModel\n",
    "from ludwig.visualize import learning_curves, confusion_matrix"
   ]
  },
  {
   "cell_type": "markdown",
   "metadata": {},
   "source": [
    "Column type information is avaible [here](https://uber.github.io/ludwig/getting_started/)"
   ]
  },
  {
   "cell_type": "code",
   "execution_count": null,
   "metadata": {},
   "outputs": [],
   "source": [
    "model_definition = {}\n",
    "input_features = []\n",
    "\n",
    "df = pd.read_csv(input_file,index_col=None, header=0, delimiter=\",\")\n",
    "for column in list(df.columns.values):\n",
    "    if not column == target_name:\n",
    "        input_features.append({'name': column, 'type':'numerical'})\n",
    "        \n",
    "print(input_features)\n",
    "model_definition['input_features'] = input_features\n",
    "model_definition['output_features'] = [{'name': target_name, 'type': 'category'}]"
   ]
  },
  {
   "cell_type": "code",
   "execution_count": null,
   "metadata": {},
   "outputs": [],
   "source": [
    "model = LudwigModel(model_definition, logging_level=20)"
   ]
  },
  {
   "cell_type": "code",
   "execution_count": null,
   "metadata": {
    "scrolled": true
   },
   "outputs": [],
   "source": [
    "tmp_file_hdf5 = \"tmp_ludwig/input_file_ludwig.hdf5\"\n",
    "tmp_file_json = \"tmp_ludwig/input_file_ludwig.json\"\n",
    "\n",
    "if os.path.isfile(tmp_file_hdf5):\n",
    "    os.remove(tmp_file_hdf5)\n",
    "if os.path.isfile(tmp_file_json):\n",
    "    os.remove(tmp_file_json)\n",
    "\n",
    "train_stats = model.train(data_csv=input_file, data_hdf5=tmp_file_hdf5, output_directory='ludwig/results', skip_save_preprocessing=False)"
   ]
  },
  {
   "cell_type": "markdown",
   "metadata": {},
   "source": [
    "## Visualization"
   ]
  },
  {
   "cell_type": "code",
   "execution_count": null,
   "metadata": {},
   "outputs": [],
   "source": [
    "from ludwig import visualize"
   ]
  },
  {
   "cell_type": "code",
   "execution_count": null,
   "metadata": {},
   "outputs": [],
   "source": [
    "field = [target_name]\n",
    "model_names = ['results/api_experiment_run_8/model/','results/api_experiment_run_9/model/']\n",
    "visualize.learning_curves(train_stats, field, model_names, file_format='png')"
   ]
  },
  {
   "cell_type": "code",
   "execution_count": null,
   "metadata": {},
   "outputs": [],
   "source": []
  }
 ],
 "metadata": {
  "file_extension": ".py",
  "kernelspec": {
   "display_name": "ml_box",
   "language": "python",
   "name": "ml_box"
  },
  "language_info": {
   "codemirror_mode": {
    "name": "ipython",
    "version": 3
   },
   "file_extension": ".py",
   "mimetype": "text/x-python",
   "name": "python",
   "nbconvert_exporter": "python",
   "pygments_lexer": "ipython3",
   "version": "3.7.5"
  },
  "mimetype": "text/x-python",
  "name": "python",
  "npconvert_exporter": "python",
  "pygments_lexer": "ipython3",
  "version": 3
 },
 "nbformat": 4,
 "nbformat_minor": 2
}
