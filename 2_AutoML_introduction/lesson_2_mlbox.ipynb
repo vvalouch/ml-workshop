{
 "cells": [
  {
   "cell_type": "markdown",
   "execution_count": null,
   "metadata": {},
   "outputs": [],
   "source": [
    "# Preparation "
   ]
  },
  {
   "cell_type": "markdown",
   "execution_count": null,
   "metadata": {},
   "outputs": [],
   "source": [
    "## [MLBox framework](https://mlbox.readthedocs.io/en/latest/installation.html) setup\n",
    "Please make sure that you are running this in standalone Python virtual env and that you are using interactive Python for that env. This should help to vastly reduce amount of dependency clashes."
   ]
  },
  {
   "cell_type": "markdown",
   "execution_count": null,
   "metadata": {},
   "outputs": [],
   "source": [
    "MLBox is using [OpenMP](https://www.openmp.org/) and [LightGBM](https://lightgbm.readthedocs.io/en/latest/)"
   ]
  },
  {
   "cell_type": "code",
   "execution_count": null,
   "metadata": {},
   "outputs": [],
   "source": [
    "%%bash\n",
    "brew install cmake\n",
    "brew install libomp"
   ]
  },
  {
   "cell_type": "code",
   "execution_count": null,
   "metadata": {},
   "outputs": [],
   "source": [
    "%%bash \n",
    "pip install setuptools\n",
    "pip install wheel\n",
    "pip install pandas\n",
    "pip install numpy\n",
    "pip install mlbox"
   ]
  },
  {
   "cell_type": "markdown",
   "execution_count": null,
   "metadata": {},
   "outputs": [],
   "source": [
    "## Enviroment variables setup"
   ]
  },
  {
   "cell_type": "code",
   "execution_count": null,
   "metadata": {},
   "outputs": [],
   "source": [
    "paths = [\"tmp_mlbox/train_mlbox.csv\", \"tmp_mlbox/eval_mlbox.csv\"]\n",
    "target_name = \"y\" #feature(\"column\") with the result\n",
    "input_file = \"tmp_mlbox/input_file.csv\""
   ]
  },
  {
   "cell_type": "markdown",
   "execution_count": null,
   "metadata": {},
   "outputs": [],
   "source": [
    "## New \"random\" data generation"
   ]
  },
  {
   "cell_type": "code",
   "execution_count": null,
   "metadata": {},
   "outputs": [],
   "source": [
    "from random import uniform\n",
    "from random import randint\n",
    "import pandas as pd\n",
    "import numpy as np\n",
    "from sklearn.model_selection import train_test_split\n",
    "\n",
    "row_num=400\n",
    "min_num=0\n",
    "max_num=100\n",
    "\n",
    "with open(input_file, \"w+\") as f: \n",
    "    f.write(\"x1,x2,x3,x4,x5,x6,x7,x8,x9,y\\n\") \n",
    "    for i in range(row_num):\n",
    "        x1 = randint(min_num, max_num)\n",
    "        x2 = randint(min_num, max_num)\n",
    "        x3 = randint(min_num, max_num)\n",
    "        x4 = randint(min_num, max_num)\n",
    "        x5 = randint(min_num, max_num)\n",
    "        x6 = randint(min_num, max_num)\n",
    "        x7 = randint(min_num, max_num)\n",
    "        x8 = randint(min_num, max_num)        \n",
    "        x9 = randint(min_num, max_num)\n",
    "        y = 1 if( x1 + x2 > x3) else 0\n",
    "        \n",
    "        f.write(\"{},{},{},{},{},{},{},{},{},{}\\n\".format(x1,x2,x3,x4,x5,x6,x7,x8,x9,y))"
   ]
  },
  {
   "cell_type": "code",
   "execution_count": null,
   "metadata": {},
   "outputs": [],
   "source": [
    "df = pd.read_csv(input_file,index_col=None, header=0, delimiter=\",\")"
   ]
  },
  {
   "cell_type": "code",
   "execution_count": null,
   "metadata": {},
   "outputs": [],
   "source": [
    "df.head()"
   ]
  },
  {
   "cell_type": "code",
   "execution_count": null,
   "metadata": {},
   "outputs": [],
   "source": [
    "X = df\n",
    "y = df[target_name]\n",
    "#MLBox does not seem to be able to do the proper spliting thus it is done manually here\n",
    "X_train, X_test, _, _ = train_test_split(X, y, test_size=0.1, random_state=42, stratify=y)\n",
    "X_train.to_csv(paths[0], encoding='utf8',index=False)\n",
    "\n",
    "#as per MLBox documentation the test dataset is such that does NOT contain target feature!!!\n",
    "X_test = X_test.drop(target_name, axis=1)\n",
    "X_test.to_csv(paths[1], encoding='utf8',index=False)"
   ]
  },
  {
   "cell_type": "markdown",
   "execution_count": null,
   "metadata": {},
   "outputs": [],
   "source": [
    "## Training with MLBox"
   ]
  },
  {
   "cell_type": "code",
   "execution_count": null,
   "metadata": {},
   "outputs": [],
   "source": [
    "from mlbox.preprocessing import *\n",
    "from mlbox.optimisation import *\n",
    "from mlbox.prediction import *"
   ]
  },
  {
   "cell_type": "code",
   "execution_count": null,
   "metadata": {},
   "outputs": [],
   "source": [
    "data = Reader(sep=\",\").train_test_split(paths, target_name)  #reading"
   ]
  },
  {
   "cell_type": "code",
   "execution_count": null,
   "metadata": {},
   "outputs": [],
   "source": [
    "data = Drift_thresholder().fit_transform(data)  #deleting non-stable variables"
   ]
  },
  {
   "cell_type": "markdown",
   "execution_count": null,
   "metadata": {},
   "outputs": [],
   "source": [
    "[Optimizer documentation](https://mlbox.readthedocs.io/en/latest/features.html#optimisation)\n",
    "\n",
    "[Scoring options](https://scikit-learn.org/stable/modules/model_evaluation.html#the-scoring-parameter-defining-model-evaluation-rules)"
   ]
  },
  {
   "cell_type": "code",
   "execution_count": null,
   "metadata": {},
   "outputs": [],
   "source": [
    "opt = Optimiser(scoring = 'accuracy', n_folds = 5)\n",
    "opt.evaluate(None, data)"
   ]
  },
  {
   "cell_type": "code",
   "execution_count": null,
   "metadata": {},
   "outputs": [],
   "source": [
    "space = {\n",
    "        'fs__strategy' : {\"space\" : [\"variance\", \"rf_feature_importance\"]},\n",
    "        'fs__threshold': {\"search\" : \"choice\", \"space\" : [0.1, 0.2, 0.3, 0.4]},\n",
    "\n",
    "        'est__strategy' : {\"space\" : [\"LightGBM\"]},\n",
    "        'est__max_depth' : {\"search\" : \"choice\", \"space\" : [2,5,6,10,14,16,20,50]},\n",
    "        'est__subsample' : {\"search\" : \"uniform\", \"space\" : [0.6,0.9]}\n",
    "        }\n",
    "\n",
    "best = opt.optimise(space, data, max_evals = 100)"
   ]
  },
  {
   "cell_type": "code",
   "execution_count": null,
   "metadata": {},
   "outputs": [],
   "source": [
    "Predictor().fit_predict(best, data)"
   ]
  },
  {
   "cell_type": "code",
   "execution_count": null,
   "metadata": {},
   "outputs": [],
   "source": []
  }
 ],
 "metadata": {
  "file_extension": ".py",
  "kernelspec": {
   "display_name": "ml_box",
   "language": "python",
   "name": "ml_box"
  },
  "language_info": {
   "codemirror_mode": {
    "name": "ipython",
    "version": 3
   },
   "file_extension": ".py",
   "mimetype": "text/x-python",
   "name": "python",
   "nbconvert_exporter": "python",
   "pygments_lexer": "ipython3",
   "version": "3.7.5"
  },
  "mimetype": "text/x-python",
  "name": "python",
  "npconvert_exporter": "python",
  "pygments_lexer": "ipython3",
  "version": 3
 },
 "nbformat": 4,
 "nbformat_minor": 2
}